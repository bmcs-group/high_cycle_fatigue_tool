{
 "cells": [
  {
   "cell_type": "markdown",
   "metadata": {
    "collapsed": true,
    "pycharm": {
     "name": "#%% md\n"
    }
   },
   "source": [
    "# Energy measuring procedure"
   ]
  },
  {
   "cell_type": "code",
   "execution_count": 37,
   "metadata": {
    "pycharm": {
     "name": "#%%\n"
    }
   },
   "outputs": [
    {
     "ename": "ModuleNotFoundError",
     "evalue": "No module named 'bmcs_utils.hctf'",
     "output_type": "error",
     "traceback": [
      "\u001B[1;31m---------------------------------------------------------------------------\u001B[0m",
      "\u001B[1;31mModuleNotFoundError\u001B[0m                       Traceback (most recent call last)",
      "\u001B[1;32m<ipython-input-37-4f4d134d5396>\u001B[0m in \u001B[0;36m<module>\u001B[1;34m\u001B[0m\n\u001B[0;32m      6\u001B[0m \u001B[1;32mfrom\u001B[0m \u001B[0mIPython\u001B[0m\u001B[1;33m.\u001B[0m\u001B[0mdisplay\u001B[0m \u001B[1;32mimport\u001B[0m \u001B[0mImage\u001B[0m\u001B[1;33m\u001B[0m\u001B[1;33m\u001B[0m\u001B[0m\n\u001B[0;32m      7\u001B[0m \u001B[1;32mfrom\u001B[0m \u001B[0mIPython\u001B[0m\u001B[1;33m.\u001B[0m\u001B[0mcore\u001B[0m\u001B[1;33m.\u001B[0m\u001B[0mdisplay\u001B[0m \u001B[1;32mimport\u001B[0m \u001B[0mHTML\u001B[0m\u001B[1;33m\u001B[0m\u001B[1;33m\u001B[0m\u001B[0m\n\u001B[1;32m----> 8\u001B[1;33m \u001B[1;32mfrom\u001B[0m \u001B[0mbmcs_utils\u001B[0m\u001B[1;33m.\u001B[0m\u001B[0mhctf\u001B[0m \u001B[1;32mimport\u001B[0m \u001B[0mHCTF\u001B[0m\u001B[1;33m\u001B[0m\u001B[1;33m\u001B[0m\u001B[0m\n\u001B[0m\u001B[0;32m      9\u001B[0m \u001B[1;32mimport\u001B[0m \u001B[0mos\u001B[0m\u001B[1;33m\u001B[0m\u001B[1;33m\u001B[0m\u001B[0m\n",
      "\u001B[1;31mModuleNotFoundError\u001B[0m: No module named 'bmcs_utils.hctf'"
     ]
    }
   ],
   "source": [
    "# %matplotlib notebook\n",
    "\n",
    "import numpy as np\n",
    "import matplotlib.pyplot as plt\n",
    "import scipy.integrate\n",
    "from IPython.display import Image\n",
    "from IPython.core.display import HTML\n",
    "from hctf import HCTF\n",
    "import os"
   ]
  },
  {
   "cell_type": "markdown",
   "metadata": {
    "pycharm": {
     "name": "#%% md\n"
    }
   },
   "source": [
    "## Mathematical condition:\n",
    "\n",
    "- 2 segments p-p+r, q-q+s are intersecting if the cross product of ( p,p+r,q+s) is different than (p,p+r,q),\n",
    "and the cross product of (q,q+s,p) and (q,q+s,p+r) is also different. We see that we need to generate 6 different vectors\n",
    "for checking if two segments are intersecting"
   ]
  },
  {
   "cell_type": "code",
   "execution_count": 3,
   "metadata": {
    "pycharm": {
     "name": "#%%\n"
    }
   },
   "outputs": [
    {
     "data": {
      "text/html": [
       "<img src=\"https://i.stack.imgur.com/vD4g5.png\"/>"
      ],
      "text/plain": [
       "<IPython.core.display.Image object>"
      ]
     },
     "execution_count": 3,
     "metadata": {},
     "output_type": "execute_result"
    }
   ],
   "source": [
    "Image(url=\"https://i.stack.imgur.com/vD4g5.png\")"
   ]
  },
  {
   "cell_type": "markdown",
   "metadata": {},
   "source": [
    "## Recreation of a fictitious loop:"
   ]
  },
  {
   "cell_type": "code",
   "execution_count": 7,
   "metadata": {
    "pycharm": {
     "name": "#%%\n"
    }
   },
   "outputs": [
    {
     "data": {
      "text/plain": [
       "[<matplotlib.lines.Line2D at 0x24c24ab46a0>]"
      ]
     },
     "execution_count": 7,
     "metadata": {},
     "output_type": "execute_result"
    },
    {
     "data": {
      "image/png": "[encoded data removed]",
      "text/plain": [
       "<Figure size 432x288 with 1 Axes>"
      ]
     },
     "metadata": {
      "needs_background": "light"
     },
     "output_type": "display_data"
    }
   ],
   "source": [
    "# Simulating hysteretic loop\n",
    "\n",
    "x1=np.linspace(0.00,2.,10)\n",
    "x2=np.linspace(2.,2.,20)\n",
    "x3=np.linspace(2.,0.,15)\n",
    "x4=np.linspace(0.00,0.00,30)\n",
    "x5=np.linspace(0.00,2.,20)\n",
    "x_descending=np.concatenate((x1,x2,x3))[:,np.newaxis] # associated to x coordinates of descending branch\n",
    "x_ascending=np.concatenate((x4,x5))[:,np.newaxis] # associated to x coordinates of ascending branch\n",
    "\n",
    "y1=np.linspace(12.,10.,10)\n",
    "y2=np.linspace(10.,0.,20)\n",
    "y3=np.linspace(0.,0.,15)\n",
    "y4=np.linspace(0.,10.,30)\n",
    "y5=np.linspace(10.,12.,20)\n",
    "y_descending=np.concatenate((y1,y2,y3))[:,np.newaxis]\n",
    "y_ascending=np.concatenate((y4,y5))[:,np.newaxis]\n",
    "\n",
    "force_array = np.concatenate((y1,y2,y3,y4,y5))\n",
    "disp_array = np.concatenate((x1,x2,x3,x4,x5))\n",
    "\n",
    "force_max_indices=[0,len(force_array)-1]\n",
    "force_min_indices=[35]\n",
    "\n",
    "plt.plot(disp_array,force_array)"
   ]
  },
  {
   "cell_type": "markdown",
   "metadata": {},
   "source": [
    "We select each individual segment of the descending branch, starting from the left side, and apply the described mathematical\n",
    "condition with each of the segments of the ascending branch. Once that the intersection is found, break the loop.\n",
    "Inefficient."
   ]
  },
  {
   "cell_type": "markdown",
   "metadata": {
    "pycharm": {
     "name": "#%% md\n"
    }
   },
   "source": [
    "In general, the actual intersection point does not exist, so we have to calculate it"
   ]
  },
  {
   "cell_type": "code",
   "execution_count": 30,
   "metadata": {
    "pycharm": {
     "name": "#%%\n"
    }
   },
   "outputs": [],
   "source": [
    "def line_intersection(line1, line2):\n",
    "    xdiff = (line1[0][0] - line1[1][0], line2[0][0] - line2[1][0])\n",
    "    ydiff = (line1[0][1] - line1[1][1], line2[0][1] - line2[1][1])\n",
    "\n",
    "    def det(a, b):\n",
    "        return a[0] * b[1] - a[1] * b[0]\n",
    "\n",
    "    div = det(xdiff, ydiff)\n",
    "    if div == 0:\n",
    "       raise Exception('lines do not intersect')\n",
    "\n",
    "    d = (det(*line1), det(*line2))\n",
    "    x = det(d, xdiff) / div\n",
    "    y = det(d, ydiff) / div\n",
    "    return x.reshape(1,), y.reshape(1,)\n",
    "\n",
    "\n"
   ]
  },
  {
   "cell_type": "code",
   "execution_count": 33,
   "metadata": {},
   "outputs": [
    {
     "data": {
      "image/png": "[encoded data removed]",
      "text/plain": [
       "<Figure size 432x288 with 1 Axes>"
      ]
     },
     "metadata": {
      "needs_background": "light"
     },
     "output_type": "display_data"
    },
    {
     "name": "stdout",
     "output_type": "stream",
     "text": [
      "[0, array(21.)]\n"
     ]
    }
   ],
   "source": [
    "x_descending = []\n",
    "x_ascending = []\n",
    "y_descending = []\n",
    "y_ascending = []\n",
    "inter_descending = []\n",
    "inter_ascending = []\n",
    "dissipated_energy = [0]\n",
    "\n",
    "for i in range(len(force_max_indices) - 1):\n",
    "    x_descending.append(disp_array[force_max_indices[i]:force_min_indices[i]].tolist())\n",
    "    x_ascending.append(disp_array[force_min_indices[i]:force_max_indices[i + 1]].tolist())\n",
    "    y_descending.append(force_array[force_max_indices[i]:force_min_indices[i]].tolist())\n",
    "    y_ascending.append(force_array[force_min_indices[i]:force_max_indices[i + 1]].tolist())\n",
    "\n",
    "# Looping over each loading-unloading cycle\n",
    "for k in range(len(force_max_indices) - 1):\n",
    "    \n",
    "    intersect = 0\n",
    "    \n",
    "    for i in range(len(x_descending[k]) - 1):  # index i for i-th segment of descending branch\n",
    "        \n",
    "        vector1 = np.array([\n",
    "            np.array(x_descending[k][i + 1]) - np.array(x_descending[k][i]), np.array(y_descending[k][i + 1]) - np.array(y_descending[k][i])]).reshape(-1)\n",
    "        \n",
    "        # 1st of the 6 needed vectors for mathematical condition, p-p+r from example\n",
    "        \n",
    "        for j in range(1, len(x_ascending[k])):\n",
    "            vector2 = np.array([np.array(x_ascending[k][len(x_ascending[k]) - j]) - np.array(np.array(x_descending[k][i + 1])),\n",
    "                                np.array(y_ascending[k][len(y_ascending[k]) - j]) - np.array(y_descending[k][i + 1])]).reshape(-1)\n",
    "            vector3 = np.array([np.array(x_ascending[k][len(x_ascending[k]) - j - 1]) - np.array(x_descending[k][i + 1]),\n",
    "                                np.array(y_ascending[k][len(y_ascending[k]) - j - 1]) - np.array(y_descending[k][i + 1])]).reshape(-1)\n",
    "            vector4 = np.array(\n",
    "                [np.array(x_ascending[k][len(x_ascending[k]) - j - 1]) - np.array(x_ascending[k][len(x_ascending[k]) - j]),\n",
    "                 np.array(y_ascending[k][len(y_ascending[k]) - j - 1]) - np.array(y_ascending[k][len(y_ascending[k]) - j])]).reshape(-1)\n",
    "            \n",
    "            # q-q+s vector from example\n",
    "            \n",
    "            vector5 = np.array([np.array(x_descending[k][i]) - np.array(x_ascending[k][len(x_ascending[k]) - j - 1]),\n",
    "                                np.array(y_descending[k][i]) - np.array(y_ascending[k][len(y_ascending[k]) - j - 1])]).reshape(-1)\n",
    "            vector6 = np.array([np.array(x_descending[k][i + 1]) - np.array(x_ascending[k][len(x_ascending[k]) - j - 1]),\n",
    "                                np.array(y_descending[k][i + 1]) - np.array(y_ascending[k][len(y_ascending[k]) - j - 1])]).reshape(-1)\n",
    "            d1 = np.cross(vector1, vector2)\n",
    "            d2 = np.cross(vector1, vector3)\n",
    "            d3 = np.cross(vector4, vector5)\n",
    "            d4 = np.cross(vector4, vector6)\n",
    "            \n",
    "            # Mathematical condition\n",
    "            \n",
    "            if (np.sign(d1) != np.sign(d2)) & (np.sign(d3) != np.sign(d4)):\n",
    "                intersect = 1\n",
    "                break\n",
    "                \n",
    "        if intersect == 1:\n",
    "            break\n",
    "\n",
    "    if intersect == 1:\n",
    "        \n",
    "        # Intersection between A,B - C,D\n",
    "        \n",
    "        A = np.array([x_descending[k][i], y_descending[k][i]])\n",
    "        B = np.array([x_descending[k][i + 1], y_descending[k][i + 1]])\n",
    "        C = np.array([x_ascending[k][len(x_ascending[k]) - j], y_ascending[k][len(x_ascending[k]) - j]])\n",
    "        D = np.array([x_ascending[k][len(x_ascending[k]) - j - 1], y_ascending[k][len(x_ascending[k]) - j - 1]])\n",
    "        inter_descending.append([A, B])\n",
    "        inter_ascending.append([C, D])\n",
    "        \n",
    "        # x and y coordinates of the intersection\n",
    "        inter_x, inter_y = line_intersection((A, B), (C, D))\n",
    "\n",
    "        # Plotting loop\n",
    "        plt.figure()\n",
    "        plt.plot(np.concatenate((x_descending[k], x_ascending[k])), np.concatenate((y_descending[k], y_ascending[k])))\n",
    "        # # Plotting intersection segment from descending branch\n",
    "        plt.plot(x_descending[k][i], y_descending[k][i], 'ro')\n",
    "        plt.plot(x_descending[k][i + 1], y_descending[k][i + 1], 'ro')\n",
    "        # # Plotting intersection and intersection segment from ascending branch\n",
    "        plt.plot(inter_x, inter_y, 'yo')\n",
    "        plt.plot(x_ascending[k][len(x_ascending[k]) - j], y_ascending[k][len(x_ascending[k]) - j], 'go')\n",
    "        plt.plot(x_ascending[k][len(x_ascending[k]) - j - 1], y_ascending[k][len(x_ascending[k]) - j - 1], 'go')\n",
    "        plt.show()\n",
    "        #\n",
    "        # Creating array containing just the loop\n",
    "\n",
    "        x = np.concatenate(\n",
    "            ([inter_x, np.array(x_descending[k][i + 1:]), np.array(x_ascending[k][:(len(x_ascending[k]) - j)]),\n",
    "             inter_x]),axis=0)\n",
    "        y = np.concatenate(\n",
    "            ([inter_y, np.array(y_descending[k][i + 1:]), np.array(y_ascending[k][:(len(x_ascending[k]) - j )]),\n",
    "             inter_y]),axis=0)\n",
    "\n",
    "        int = scipy.integrate.cumtrapz(y.reshape(-1), x.reshape(-1))\n",
    "        dissipated_energy.append(np.array(int[-1] + dissipated_energy[-1]))\n",
    "        print(dissipated_energy)"
   ]
  },
  {
   "cell_type": "markdown",
   "metadata": {
    "pycharm": {
     "name": "#%% md\n"
    }
   },
   "source": [
    "## Implementation in real example"
   ]
  },
  {
   "cell_type": "code",
   "execution_count": 8,
   "metadata": {
    "pycharm": {
     "name": "#%%\n"
    }
   },
   "outputs": [],
   "source": [
    "hcft = HCFT()\n",
    "\n",
    "home_dir = os.path.expanduser('~')\n",
    "\n",
    "path = os.path.join(\n",
    "    home_dir, 'Data Processing/' + 'fatigue_LS4/' + 'Smax_0.85/' + '05/' )\n",
    "\n",
    "# Load force array and generate max and min of it\n",
    "force_array = np.array(np.loadtxt(os.path.join(path, 'B-L60-05-430_force.txt')))\n",
    "\n",
    "force_max_indices, force_min_indices = hcft.get_array_max_and_min_indices(force_array.flatten())\n",
    "\n",
    "# Optional (if you want max and min indicies in one array)\n",
    "force_max_min_indices = np.concatenate((force_min_indices, force_max_indices))\n",
    "force_max_min_indices.sort()\n",
    "\n",
    "# Cut the fake cycles because of noise (important!)\n",
    "force_max_indices_cut, force_min_indices_cut = np.array(hcft.cut_indices_of_defined_range(force_array.flatten(),\n",
    "                                                                                 force_max_indices,\n",
    "                                                                                 force_min_indices,\n",
    "                                                                                 12))\n",
    "\n",
    "# Load displacement array and get the values corresponding to max and min of the force\n",
    "disp_array = np.array(np.loadtxt(os.path.join(path, 'B-L60-05-430_opening.txt')))\n",
    "array_rest_maxima = disp_array.flatten()[force_max_indices_cut]\n",
    "array_rest_minima = disp_array.flatten()[force_min_indices_cut]"
   ]
  },
  {
   "cell_type": "code",
   "execution_count": 12,
   "metadata": {
    "pycharm": {
     "name": "#%%\n"
    }
   },
   "outputs": [
    {
     "data": {
      "image/png": "[encoded data removed]",
      "text/plain": [
       "<Figure size 1080x864 with 1 Axes>"
      ]
     },
     "metadata": {
      "needs_background": "light"
     },
     "output_type": "display_data"
    }
   ],
   "source": [
    "inter_descending,inter_ascending = find_intersection_segment(force_array, disp_array, force_max_indices, force_min_indices)"
   ]
  },
  {
   "cell_type": "code",
   "execution_count": null,
   "metadata": {
    "pycharm": {
     "name": "#%%\n"
    }
   },
   "outputs": [],
   "source": []
  }
 ],
 "metadata": {
  "kernelspec": {
   "display_name": "Python [conda env:bmcs_env]",
   "language": "python",
   "name": "conda-env-bmcs_env-py"
  },
  "language_info": {
   "codemirror_mode": {
    "name": "ipython",
    "version": 3
   },
   "file_extension": ".py",
   "mimetype": "text/x-python",
   "name": "python",
   "nbconvert_exporter": "python",
   "pygments_lexer": "ipython3",
   "version": "3.9.1"
  }
 },
 "nbformat": 4,
 "nbformat_minor": 1
}