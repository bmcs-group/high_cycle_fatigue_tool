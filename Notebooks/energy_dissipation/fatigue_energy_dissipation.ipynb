{
 "cells": [
  {
   "cell_type": "markdown",
   "metadata": {},
   "source": [
    "# Input energy"
   ]
  },
  {
   "cell_type": "markdown",
   "metadata": {},
   "source": [
    "Calculation of energy dissipation is done by first evaluating the external power\n",
    "\\begin{align}\n",
    " W = \\int_0^t F \\dot{u} \\, \\mathrm{d}t\n",
    "\\end{align}\n",
    "This energy represents the work supplied by the testing machine and the energy\n",
    "recovered during unloading.\n",
    "**Remark**: Kinetic energy due to dynamic effect is not considered here."
   ]
  },
  {
   "cell_type": "markdown",
   "metadata": {},
   "source": [
    "Considering cyclic loading, let us introduce a notion of maximum total displacement \n",
    "achieved within the history up to the time $t$ as\n",
    "\\begin{align}\n",
    "  \\tilde{u}(t) = \\max_{\\theta \\in (0,t)} u(\\theta)\n",
    "\\end{align}"
   ]
  },
  {
   "cell_type": "markdown",
   "metadata": {},
   "source": [
    "The first question analyzed here is how to distinguish elastic recoverable displacement from the inelastic one.\n",
    "\\begin{align}\n",
    " u^\\mathrm{el}(t) = \\tilde{u}(t) - u(t) \n",
    "\\end{align}\n",
    "and, its rate\n",
    "\\begin{align}\n",
    " \\dot{u}^\\mathrm{el}(t) = \\tilde{u}(t) - \\dot{u}(t)\n",
    "\\end{align}"
   ]
  },
  {
   "cell_type": "markdown",
   "metadata": {},
   "source": [
    "The energy recovery since the last $\\tilde{u}(t)$\n",
    "\\begin{align}\n",
    " U(t) \\int_t^{t+\\theta} F \\dot{u} \\, \\mathrm{d}t\n",
    "\\end{align}"
   ]
  },
  {
   "cell_type": "markdown",
   "metadata": {},
   "source": [
    "Considering a periodic loading with\n",
    "\\begin{align}\n",
    " F(t) = F_\\mathrm{m} + F_\\mathrm{a} \\sin(t)\n",
    "\\end{align}"
   ]
  },
  {
   "cell_type": "code",
   "execution_count": 1,
   "metadata": {},
   "outputs": [],
   "source": [
    "%matplotlib widget\n",
    "import sympy as sp\n",
    "import numpy as np\n",
    "import matplotlib.pylab as plt\n",
    "sp.init_printing()"
   ]
  },
  {
   "cell_type": "markdown",
   "metadata": {},
   "source": [
    "# Periodic loading\n",
    "\n",
    "Cyclic loading function is introduced as\n",
    "\\begin{align}\n",
    " F_\\mathrm{cyc}(t) = \\bar{F} + \\Delta F \n",
    " \\sin \\frac{t}{T}\n",
    "\\end{align}\n",
    "with the mean value\n",
    "\\begin{align}\n",
    " \\bar{F} = \\frac{F_\\mathrm{up} + F_\\mathrm{lo}}{2}\n",
    "\\end{align}\n",
    "and amplitude\n",
    "\\begin{align}\n",
    " \\Delta {F} = \\frac{F_\\mathrm{up} - F_\\mathrm{lo}}{2}\n",
    "\\end{align}\n",
    "and the period $T = \\frac{1}{2 \\pi}$"
   ]
  },
  {
   "cell_type": "code",
   "execution_count": 2,
   "metadata": {},
   "outputs": [],
   "source": [
    "T = 1 / 2 / sp.pi"
   ]
  },
  {
   "cell_type": "code",
   "execution_count": 3,
   "metadata": {},
   "outputs": [],
   "source": [
    "t = sp.symbols(r't')\n",
    "F_up, F_lo = sp.symbols(r'F_up, F_lo')"
   ]
  },
  {
   "cell_type": "code",
   "execution_count": 4,
   "metadata": {},
   "outputs": [
    {
     "data": {
      "image/png": "[encoded data removed]",
      "text/latex": [
       "$\\displaystyle \\frac{F_{lo}}{2} + \\frac{F_{up}}{2} + \\frac{\\left(- F_{lo} + F_{up}\\right) \\sin{\\left(2 \\pi t \\right)}}{2}$"
      ],
      "text/plain": [
       "Fₗₒ   Fᵤₚ   (-Fₗₒ + Fᵤₚ)⋅sin(2⋅π⋅t)\n",
       "─── + ─── + ───────────────────────\n",
       " 2     2               2           "
      ]
     },
     "execution_count": 4,
     "metadata": {},
     "output_type": "execute_result"
    }
   ],
   "source": [
    "F_t_cyc = sp.simplify((F_up+F_lo)/2 + (F_up-F_lo)/2 * sp.sin(t/T))\n",
    "sp.simplify(F_t_cyc)"
   ]
  },
  {
   "cell_type": "markdown",
   "metadata": {},
   "source": [
    "To consider the initial loading branch up to the level $\\bar{F}$. It is \n",
    "assumed linear with the slope equal to the derivative of $F_\\mathrm{cyc}$ at the level $\\bar{F}$."
   ]
  },
  {
   "cell_type": "code",
   "execution_count": 5,
   "metadata": {},
   "outputs": [
    {
     "data": {
      "image/png": "[encoded data removed]",
      "text/latex": [
       "$\\displaystyle 2 \\pi t \\left(- \\frac{F_{lo}}{2} + \\frac{F_{up}}{2}\\right)$"
      ],
      "text/plain": [
       "      ⎛  Fₗₒ   Fᵤₚ⎞\n",
       "2⋅π⋅t⋅⎜- ─── + ───⎟\n",
       "      ⎝   2     2 ⎠"
      ]
     },
     "execution_count": 5,
     "metadata": {},
     "output_type": "execute_result"
    }
   ],
   "source": [
    "F_t_lin = F_t_cyc.diff(t).subs(t,0) * t\n",
    "F_t_lin"
   ]
  },
  {
   "cell_type": "markdown",
   "metadata": {},
   "source": [
    "The equation resolving the transition between the linear and cyclic branch then reads\n",
    "\\begin{align}\n",
    "\\bar{F} =  \\frac{\\Delta F}{T} t\n",
    "\\end{align}"
   ]
  },
  {
   "cell_type": "code",
   "execution_count": 6,
   "metadata": {},
   "outputs": [
    {
     "data": {
      "image/png": "[encoded data removed]",
      "text/latex": [
       "$\\displaystyle \\frac{F_{lo}}{2} + \\frac{F_{up}}{2} = 2 \\pi t \\left(- \\frac{F_{lo}}{2} + \\frac{F_{up}}{2}\\right)$"
      ],
      "text/plain": [
       "Fₗₒ   Fᵤₚ         ⎛  Fₗₒ   Fᵤₚ⎞\n",
       "─── + ─── = 2⋅π⋅t⋅⎜- ─── + ───⎟\n",
       " 2     2          ⎝   2     2 ⎠"
      ]
     },
     "execution_count": 6,
     "metadata": {},
     "output_type": "execute_result"
    }
   ],
   "source": [
    "Eq_T_0 = sp.Eq((F_up+F_lo)/2, F_t_lin)\n",
    "Eq_T_0"
   ]
  },
  {
   "cell_type": "markdown",
   "metadata": {},
   "source": [
    "rendering\n",
    "\\begin{align}\n",
    "T_0 = \\frac{ \\bar{F} }{\\Delta F} T\n",
    "\\end{align}"
   ]
  },
  {
   "cell_type": "code",
   "execution_count": 7,
   "metadata": {},
   "outputs": [
    {
     "data": {
      "image/png": "[encoded data removed]",
      "text/latex": [
       "$\\displaystyle - \\frac{F_{lo} + F_{up}}{2 \\pi \\left(F_{lo} - F_{up}\\right)}$"
      ],
      "text/plain": [
       " -(Fₗₒ + Fᵤₚ)  \n",
       "───────────────\n",
       "2⋅π⋅(Fₗₒ - Fᵤₚ)"
      ]
     },
     "execution_count": 7,
     "metadata": {},
     "output_type": "execute_result"
    }
   ],
   "source": [
    "T_0 = sp.solve(Eq_T_0,t)[0]\n",
    "T_0"
   ]
  },
  {
   "cell_type": "code",
   "execution_count": 8,
   "metadata": {},
   "outputs": [
    {
     "data": {
      "image/png": "[encoded data removed]",
      "text/latex": [
       "$\\displaystyle \\begin{cases} 2 \\pi t \\left(- \\frac{F_{lo}}{2} + \\frac{F_{up}}{2}\\right) & \\text{for}\\: t < - \\frac{F_{lo} + F_{up}}{2 \\pi \\left(F_{lo} - F_{up}\\right)} \\\\\\frac{F_{lo}}{2} + \\frac{F_{up}}{2} + \\frac{\\left(- F_{lo} + F_{up}\\right) \\sin{\\left(\\pi \\left(2 t + \\frac{F_{lo} + F_{up}}{\\pi \\left(F_{lo} - F_{up}\\right)}\\right) \\right)}}{2} & \\text{otherwise} \\end{cases}$"
      ],
      "text/plain": [
       "⎧                       ⎛  Fₗₒ   Fᵤₚ⎞                            -(Fₗₒ + Fᵤₚ) \n",
       "⎪                 2⋅π⋅t⋅⎜- ─── + ───⎟                   for t < ──────────────\n",
       "⎪                       ⎝   2     2 ⎠                           2⋅π⋅(Fₗₒ - Fᵤₚ\n",
       "⎪                                                                             \n",
       "⎨                            ⎛  ⎛        Fₗₒ + Fᵤₚ  ⎞⎞                        \n",
       "⎪            (-Fₗₒ + Fᵤₚ)⋅sin⎜π⋅⎜2⋅t + ─────────────⎟⎟                        \n",
       "⎪Fₗₒ   Fᵤₚ                   ⎝  ⎝      π⋅(Fₗₒ - Fᵤₚ)⎠⎠                        \n",
       "⎪─── + ─── + ─────────────────────────────────────────         otherwise      \n",
       "⎩ 2     2                        2                                            \n",
       "\n",
       " \n",
       "─\n",
       ")\n",
       " \n",
       " \n",
       " \n",
       " \n",
       " \n",
       " "
      ]
     },
     "execution_count": 8,
     "metadata": {},
     "output_type": "execute_result"
    }
   ],
   "source": [
    "F_t = sp.Piecewise(\n",
    "    (F_t_lin, t < T_0),\n",
    "    (F_t_cyc.subs(t, t-T_0), True)\n",
    ")\n",
    "F_t"
   ]
  },
  {
   "cell_type": "code",
   "execution_count": 9,
   "metadata": {},
   "outputs": [],
   "source": [
    "get_F_t = sp.lambdify((t, F_up, F_lo), F_t)\n",
    "get_T_0 = sp.lambdify((F_up, F_lo), T_0)"
   ]
  },
  {
   "cell_type": "code",
   "execution_count": 10,
   "metadata": {},
   "outputs": [
    {
     "data": {
      "application/vnd.jupyter.widget-view+json": {
       "model_id": "746d793c8ff84735a7085e7567a876d2",
       "version_major": 2,
       "version_minor": 0
      },
      "text/plain": [
       "Canvas(toolbar=Toolbar(toolitems=[('Home', 'Reset original view', 'home', 'home'), ('Back', 'Back to previous …"
      ]
     },
     "metadata": {},
     "output_type": "display_data"
    }
   ],
   "source": [
    "_, ax = plt.subplots(1,1)\n",
    "t_range = np.linspace(0,10,1000)\n",
    "T_0_ = get_T_0(3,0.5)\n",
    "ax.plot([T_0_], get_F_t(T_0_,3,0.5), marker='o')\n",
    "ax.plot(t_range, get_F_t(t_range,3,0.5));"
   ]
  },
  {
   "cell_type": "markdown",
   "metadata": {},
   "source": [
    "# Oscilating total displacement"
   ]
  },
  {
   "cell_type": "markdown",
   "metadata": {},
   "source": [
    "The periodic function for displacement corresponding to the load\n",
    "is required to grow linearly up to the point \n",
    "\\begin{align}\n",
    "T_1 = T_0 + \\frac{1}{4} + \\phi\n",
    "\\end{align}\n",
    "where $\\phi$ represents a phase shift. This parameter can be used\n",
    "to introduce the hysteretic loops."
   ]
  },
  {
   "cell_type": "markdown",
   "metadata": {},
   "source": [
    "To represent the fatigue creep evolution, let us introduce two general functions\n",
    "capturing the fatigue creep curve at the upper and lower load $u_\\mathrm{up}$ and \n",
    "$u_\\mathrm{lo}(t)$, respectively. To introduce a simple running example, these \n",
    "functions are assumed linear\n",
    "\\begin{align}\n",
    " u_\\mathrm{up}(t) &= U_\\mathrm{up,0} - \\frac{U_\\mathrm{up,1}-U_\\mathrm{up,0}}{N} \\cdot t \\\\\n",
    " u_\\mathrm{lo}(t) &= U_\\mathrm{lo,0} - \\frac{U_\\mathrm{lo,1}-U_\\mathrm{lo,0}}{N} \\cdot t\n",
    "\\end{align}\n",
    "where $N$ represents the number of cycles"
   ]
  },
  {
   "cell_type": "code",
   "execution_count": 11,
   "metadata": {},
   "outputs": [],
   "source": [
    "U_up0, U_up1 = sp.symbols(r'U_up0, U_up1', positive=True)\n",
    "U_lo0, U_lo1 = sp.symbols(r'U_lo0, U_lo1', positive=True)\n",
    "phi = sp.symbols(r'phi', positive=True)\n",
    "N = sp.symbols(r'N', positive=True)"
   ]
  },
  {
   "cell_type": "code",
   "execution_count": 12,
   "metadata": {},
   "outputs": [],
   "source": [
    "U_up_t = U_up0 + (U_up1 - U_up0)/N * t\n",
    "U_lo_t = U_lo0 + (U_lo1 - U_lo0)/N * t"
   ]
  },
  {
   "cell_type": "code",
   "execution_count": 13,
   "metadata": {},
   "outputs": [],
   "source": [
    "U_up, U_lo = sp.symbols(r'U_up, U_lo')"
   ]
  },
  {
   "cell_type": "markdown",
   "metadata": {},
   "source": [
    "The cyclic branch of the displacements can be defined as\n",
    "\\begin{align}\n",
    "u_\\mathrm{cyc}(t) = u_\\mathrm{up}(t) + \n",
    "\\left(u_\\mathrm{up}(t) - u_\\mathrm{lo}(t) \\right) \\, \\frac{\\cos \\frac{t}{T} - 1}{2}\n",
    "\\end{align}"
   ]
  },
  {
   "cell_type": "code",
   "execution_count": 14,
   "metadata": {},
   "outputs": [
    {
     "data": {
      "image/png": "[encoded data removed]",
      "text/latex": [
       "$\\displaystyle U_{up0} + \\frac{\\left(\\cos{\\left(2 \\pi t \\right)} - 1\\right) \\left(- U_{lo0} + U_{up0} - \\frac{t \\left(- U_{lo0} + U_{lo1}\\right)}{N} + \\frac{t \\left(- U_{up0} + U_{up1}\\right)}{N}\\right)}{2} + \\frac{t \\left(- U_{up0} + U_{up1}\\right)}{N}$"
      ],
      "text/plain": [
       "                        ⎛               t⋅(-Uₗₒ₀ + Uₗₒ₁)   t⋅(-Uᵤₚ₀ + Uᵤₚ₁)⎞  \n",
       "       (cos(2⋅π⋅t) - 1)⋅⎜-Uₗₒ₀ + Uᵤₚ₀ - ──────────────── + ────────────────⎟  \n",
       "                        ⎝                      N                  N        ⎠  \n",
       "Uᵤₚ₀ + ───────────────────────────────────────────────────────────────────── +\n",
       "                                         2                                    \n",
       "\n",
       "                 \n",
       "                 \n",
       " t⋅(-Uᵤₚ₀ + Uᵤₚ₁)\n",
       " ────────────────\n",
       "        N        "
      ]
     },
     "execution_count": 14,
     "metadata": {},
     "output_type": "execute_result"
    }
   ],
   "source": [
    "u_t_cyc = U_up_t + (U_up_t - U_lo_t) * (sp.cos((t)/T) - 1)/2\n",
    "u_t_cyc"
   ]
  },
  {
   "cell_type": "code",
   "execution_count": 15,
   "metadata": {},
   "outputs": [
    {
     "data": {
      "image/png": "[encoded data removed]",
      "text/latex": [
       "$\\displaystyle \\phi + \\frac{1}{4} - \\frac{F_{lo} + F_{up}}{2 \\pi \\left(F_{lo} - F_{up}\\right)}$"
      ],
      "text/plain": [
       "    1      Fₗₒ + Fᵤₚ   \n",
       "φ + ─ - ───────────────\n",
       "    4   2⋅π⋅(Fₗₒ - Fᵤₚ)"
      ]
     },
     "execution_count": 15,
     "metadata": {},
     "output_type": "execute_result"
    }
   ],
   "source": [
    "T_1 = T_0 + sp.Rational(1,4) + phi\n",
    "T_1"
   ]
  },
  {
   "cell_type": "markdown",
   "metadata": {},
   "source": [
    "The initial linear branch is assumed linear up to the point $T_1$, reaching the value\n",
    "$U_\\mathrm{up,0}$"
   ]
  },
  {
   "cell_type": "code",
   "execution_count": 16,
   "metadata": {},
   "outputs": [],
   "source": [
    "u_t_lin = U_up0 / T_1 * t"
   ]
  },
  {
   "cell_type": "code",
   "execution_count": 17,
   "metadata": {},
   "outputs": [
    {
     "data": {
      "image/png": "[encoded data removed]",
      "text/latex": [
       "$\\displaystyle \\begin{cases} \\frac{U_{up0} t}{\\phi + \\frac{1}{4} - \\frac{F_{lo} + F_{up}}{2 \\pi \\left(F_{lo} - F_{up}\\right)}} & \\text{for}\\: t < \\phi + \\frac{1}{4} - \\frac{F_{lo} + F_{up}}{2 \\pi \\left(F_{lo} - F_{up}\\right)} \\\\U_{up0} + \\frac{\\left(\\cos{\\left(\\pi \\left(- 2 \\phi + 2 t - \\frac{1}{2} + \\frac{F_{lo} + F_{up}}{\\pi \\left(F_{lo} - F_{up}\\right)}\\right) \\right)} - 1\\right) \\left(- U_{lo0} + U_{up0} - \\frac{\\left(- U_{lo0} + U_{lo1}\\right) \\left(- \\phi + t - \\frac{1}{4} + \\frac{F_{lo} + F_{up}}{2 \\pi \\left(F_{lo} - F_{up}\\right)}\\right)}{N} + \\frac{\\left(- U_{up0} + U_{up1}\\right) \\left(- \\phi + t - \\frac{1}{4} + \\frac{F_{lo} + F_{up}}{2 \\pi \\left(F_{lo} - F_{up}\\right)}\\right)}{N}\\right)}{2} + \\frac{\\left(- U_{up0} + U_{up1}\\right) \\left(- \\phi + t - \\frac{1}{4} + \\frac{F_{lo} + F_{up}}{2 \\pi \\left(F_{lo} - F_{up}\\right)}\\right)}{N} & \\text{otherwise} \\end{cases}$"
      ],
      "text/plain": [
       "⎧                                                                             \n",
       "⎪                                                                             \n",
       "⎪                                                                             \n",
       "⎪                                                                             \n",
       "⎪                                                                             \n",
       "⎪                                                                             \n",
       "⎨                                                     ⎛                       \n",
       "⎪                                                     ⎜               (-Uₗₒ₀ +\n",
       "⎪       ⎛   ⎛  ⎛             1     Fₗₒ + Fᵤₚ  ⎞⎞    ⎞ ⎜                       \n",
       "⎪       ⎜cos⎜π⋅⎜-2⋅φ + 2⋅t - ─ + ─────────────⎟⎟ - 1⎟⋅⎜-Uₗₒ₀ + Uᵤₚ₀ - ────────\n",
       "⎪       ⎝   ⎝  ⎝             2   π⋅(Fₗₒ - Fᵤₚ)⎠⎠    ⎠ ⎝                       \n",
       "⎪Uᵤₚ₀ + ──────────────────────────────────────────────────────────────────────\n",
       "⎩                                                                             \n",
       "\n",
       "                          Uᵤₚ₀⋅t                                              \n",
       "                 ───────────────────────                                      \n",
       "                     1      Fₗₒ + Fᵤₚ                                         \n",
       "                 φ + ─ - ───────────────                                      \n",
       "                     4   2⋅π⋅(Fₗₒ - Fᵤₚ)                                      \n",
       "                                                                              \n",
       "       ⎛         1      Fₗₒ + Fᵤₚ   ⎞                  ⎛         1      Fₗₒ + \n",
       " Uₗₒ₁)⋅⎜-φ + t - ─ + ───────────────⎟   (-Uᵤₚ₀ + Uᵤₚ₁)⋅⎜-φ + t - ─ + ─────────\n",
       "       ⎝         4   2⋅π⋅(Fₗₒ - Fᵤₚ)⎠                  ⎝         4   2⋅π⋅(Fₗₒ \n",
       "───────────────────────────────────── + ──────────────────────────────────────\n",
       "              N                                               N               \n",
       "──────────────────────────────────────────────────────────────────────────────\n",
       "       2                                                                      \n",
       "\n",
       "                                                                      1      F\n",
       "                                                          for t < φ + ─ - ────\n",
       "                                                                      4   2⋅π⋅\n",
       "                                                                              \n",
       "                                                                              \n",
       "                                                                              \n",
       "Fᵤₚ   ⎞⎞                                                                      \n",
       "──────⎟⎟                                                                      \n",
       "- Fᵤₚ)⎠⎟                  ⎛         1      Fₗₒ + Fᵤₚ   ⎞                      \n",
       "───────⎟   (-Uᵤₚ₀ + Uᵤₚ₁)⋅⎜-φ + t - ─ + ───────────────⎟                      \n",
       "       ⎠                  ⎝         4   2⋅π⋅(Fₗₒ - Fᵤₚ)⎠                      \n",
       "──────── + ─────────────────────────────────────────────             otherwise\n",
       "                                 N                                            \n",
       "\n",
       "ₗₒ + Fᵤₚ   \n",
       "───────────\n",
       "(Fₗₒ - Fᵤₚ)\n",
       "           \n",
       "           \n",
       "           \n",
       "           \n",
       "           \n",
       "           \n",
       "           \n",
       "           \n",
       "           \n",
       "           "
      ]
     },
     "execution_count": 17,
     "metadata": {},
     "output_type": "execute_result"
    }
   ],
   "source": [
    "u_t = sp.Piecewise(\n",
    "    (u_t_lin, t < T_1),\n",
    "    (u_t_cyc.subs(t, t-(T_1)), True)\n",
    ")\n",
    "u_t"
   ]
  },
  {
   "cell_type": "code",
   "execution_count": 18,
   "metadata": {},
   "outputs": [],
   "source": [
    "get_u_t = sp.lambdify((t, F_up, F_lo, U_up0, U_up1, U_lo0, U_lo1, N, phi), u_t)\n",
    "get_du_t = sp.lambdify((t, F_up, F_lo, U_up0, U_up1, U_lo0, U_lo1, N, phi), u_t.diff(t))\n",
    "get_T_1 = sp.lambdify((F_up, F_lo, phi), T_1)"
   ]
  },
  {
   "cell_type": "code",
   "execution_count": 19,
   "metadata": {},
   "outputs": [
    {
     "data": {
      "application/vnd.jupyter.widget-view+json": {
       "model_id": "13e54a0fa150430590e306114ff75101",
       "version_major": 2,
       "version_minor": 0
      },
      "text/plain": [
       "Canvas(toolbar=Toolbar(toolitems=[('Home', 'Reset original view', 'home', 'home'), ('Back', 'Back to previous …"
      ]
     },
     "metadata": {},
     "output_type": "display_data"
    },
    {
     "data": {
      "text/plain": [
       "[<matplotlib.lines.Line2D at 0x7f3005efc310>]"
      ]
     },
     "execution_count": 19,
     "metadata": {},
     "output_type": "execute_result"
    }
   ],
   "source": [
    "_, ax = plt.subplots(1,1)\n",
    "t_range = np.linspace(0,10,1000)\n",
    "T_1_ = get_T_1(3,0,0.1)\n",
    "ax.plot([T_1_],get_F_t(T_1_,3,0),marker='o')\n",
    "ax.plot([T_0_],get_F_t(T_0_,3,0),marker='o')\n",
    "ax.plot(t_range, get_F_t(t_range,3,0))\n",
    "ax.plot(t_range, get_u_t(t_range,3,0,1,2,0.5,0.8,10,0.1))\n",
    "ax.plot(t_range, get_du_t(t_range,3,0,1,2,0.5,0.8,10,0.1))"
   ]
  },
  {
   "cell_type": "code",
   "execution_count": 20,
   "metadata": {},
   "outputs": [],
   "source": [
    "from scipy.integrate import cumtrapz\n",
    "D_range = cumtrapz( get_F_t(t_range,3,0)*get_du_t(t_range,3,0,1,2,0.25,1,10,0.1), \n",
    "                   t_range, initial=0)"
   ]
  },
  {
   "cell_type": "code",
   "execution_count": 21,
   "metadata": {},
   "outputs": [
    {
     "data": {
      "application/vnd.jupyter.widget-view+json": {
       "model_id": "7cff35a6324745378691f135a4d63861",
       "version_major": 2,
       "version_minor": 0
      },
      "text/plain": [
       "Canvas(toolbar=Toolbar(toolitems=[('Home', 'Reset original view', 'home', 'home'), ('Back', 'Back to previous …"
      ]
     },
     "metadata": {},
     "output_type": "display_data"
    }
   ],
   "source": [
    "_, (ax) = plt.subplots(1,1)\n",
    "t_range = np.linspace(0,10,1000)\n",
    "ax.plot(get_u_t(t_range,3,0,1,2,0.25,1,10,0.1), get_F_t(t_range,3,0))\n",
    "ax2 = ax.twinx()\n",
    "ax2.plot(get_u_t(t_range,3,0,1,2,0.25,1,10,0.1), D_range, color='magenta');"
   ]
  },
  {
   "cell_type": "code",
   "execution_count": 22,
   "metadata": {},
   "outputs": [
    {
     "data": {
      "application/vnd.jupyter.widget-view+json": {
       "model_id": "639ae2954cbd4e09a9a5b51d1a4f8b3d",
       "version_major": 2,
       "version_minor": 0
      },
      "text/plain": [
       "Canvas(toolbar=Toolbar(toolitems=[('Home', 'Reset original view', 'home', 'home'), ('Back', 'Back to previous …"
      ]
     },
     "metadata": {},
     "output_type": "display_data"
    }
   ],
   "source": [
    "_, ax = plt.subplots(1,1)\n",
    "ax.plot(t_range, get_F_t(t_range,3,0.5))\n",
    "ax.plot(t_range, get_u_t(t_range,3,0.5,1,2,0.5,0.8,10,1))\n",
    "ax.plot(t_range, D_range, color='magenta')\n",
    "ax.plot(t_range, get_du_t(t_range,3,0.5,1,2,0.5,0.8,10,1), color='green');"
   ]
  },
  {
   "cell_type": "markdown",
   "metadata": {},
   "source": [
    "# Interactive energy evaluator"
   ]
  },
  {
   "cell_type": "code",
   "execution_count": 44,
   "metadata": {},
   "outputs": [],
   "source": [
    "import bmcs_utils.api as bu"
   ]
  },
  {
   "cell_type": "markdown",
   "metadata": {},
   "source": [
    "Gather the above defined symbols and expressions for $F(t)$, $u(t)$ in a subclass of `SymbExpr`."
   ]
  },
  {
   "cell_type": "code",
   "execution_count": 45,
   "metadata": {},
   "outputs": [],
   "source": [
    "class EnergyEvaluatorSymb(bu.SymbExpr):\n",
    "    t, F_up, F_lo, U_up0, U_up1, U_lo0, U_lo1, N, phi = \\\n",
    "        t, F_up, F_lo, U_up0, U_up1, U_lo0, U_lo1, N, phi\n",
    "    F_t, u_t, du_t = F_t, u_t, u_t.diff(t)\n",
    "    symb_model_params = ('F_up', 'F_lo', 'U_up0', 'U_up1', 'U_lo0', 'U_lo1', 'N', 'phi')\n",
    "    symb_expressions = [\n",
    "        ('F_t', ('t',)),\n",
    "        ('u_t', ('t',)),\n",
    "        ('du_t', ('t',)),\n",
    "    ]"
   ]
  },
  {
   "cell_type": "markdown",
   "metadata": {},
   "source": [
    "Inject the symbolic expressions in an interactive model, define an interactive view layout and the plot functions "
   ]
  },
  {
   "cell_type": "code",
   "execution_count": 56,
   "metadata": {},
   "outputs": [],
   "source": [
    "class EnergyEvaluator(bu.InteractiveModel, bu.InjectSymbExpr):\n",
    "    name = 'Energy evaluator'\n",
    "    symb_class = EnergyEvaluatorSymb\n",
    "    F_up = bu.Float(3)\n",
    "    F_lo = bu.Float(0)\n",
    "    U_up0 = bu.Float(2)\n",
    "    U_up1 = bu.Float(3)\n",
    "    U_lo0 = bu.Float(1)\n",
    "    U_lo1 = bu.Float(2)\n",
    "    N = bu.Float(5)\n",
    "    phi = bu.Float(0.1)\n",
    "    ipw_view = bu.View(\n",
    "        bu.Item('F_up'),\n",
    "        bu.Item('F_lo'),\n",
    "        bu.Item('U_up0'),\n",
    "        bu.Item('U_up1'),\n",
    "        bu.Item('U_lo0'),\n",
    "        bu.Item('U_lo1'),\n",
    "        bu.Item('N'),\n",
    "        bu.Item('phi')\n",
    "    )\n",
    "\n",
    "    def get_W_t(self, trange):\n",
    "        F_t = self.symb.get_F_t(t_range)\n",
    "        du_t = self.symb.get_du_t(t_range)\n",
    "        return cumtrapz( F_t*du_t, t_range, initial=0)\n",
    "\n",
    "    def subplots(self, fig):\n",
    "        return fig.subplots(1,2)\n",
    "\n",
    "    def plot_F_u(self, ax, ax11, t_range):\n",
    "        u_t = self.symb.get_u_t(t_range)\n",
    "        F_t = self.symb.get_F_t(t_range)\n",
    "        ax.plot(u_t, F_t)\n",
    "        W_t = self.get_W_t(t_range)\n",
    "        ax11.plot(u_t, W_t, color='magenta')\n",
    "        \n",
    "    def plot_Fu_t(self, ax, ax22, t_range):\n",
    "        u_t = self.symb.get_u_t(t_range)\n",
    "        F_t = self.symb.get_F_t(t_range)\n",
    "        ax.plot(t_range, F_t, color='blue')\n",
    "        ax.plot(t_range, u_t, color='orange')\n",
    "        W_t = self.get_W_t(t_range)\n",
    "        ax22.plot(t_range, W_t, color='magenta')\n",
    "#        ax.plot(t_range, get_du_t(t_range,3,0.5,1,2,0.5,0.8,10,1), color='green');\n",
    "\n",
    "    def update_plot(self, axes):\n",
    "        ax1, ax2 = axes\n",
    "        t_range = np.linspace(0,10,1000)\n",
    "        ax11 = ax1.twinx()\n",
    "        self.plot_F_u(ax1, ax11, t_range)\n",
    "        ax21 = ax2.twinx()\n",
    "        self.plot_Fu_t(ax2, ax21, t_range)"
   ]
  },
  {
   "cell_type": "code",
   "execution_count": 57,
   "metadata": {
    "scrolled": false
   },
   "outputs": [
    {
     "data": {
      "application/vnd.jupyter.widget-view+json": {
       "model_id": "68cfdf6b47a245b09393b9b2e517dd62",
       "version_major": 2,
       "version_minor": 0
      },
      "text/plain": [
       "VBox(children=(Output(), Tab(children=(VBox(children=(GridBox(children=(FloatText(value=3.0, description='F_up…"
      ]
     },
     "metadata": {},
     "output_type": "display_data"
    }
   ],
   "source": [
    "ee = EnergyEvaluator()\n",
    "ee.interact()"
   ]
  },
  {
   "cell_type": "markdown",
   "metadata": {},
   "source": [
    "# Identify the intersection of unloading and reloading branch"
   ]
  },
  {
   "cell_type": "markdown",
   "metadata": {},
   "source": [
    "Split the data into two-scale resolution t = $n + \\theta$, where $n \\in 1 \\ldots (N-1)$ and $\\theta \\in (0,1)$. By substituting for $t$ in the above equations it is possible to specify the condition\n",
    "\\begin{align}\n",
    " F(t+\\theta) &= F(t+1-\\zeta) \\\\\n",
    " u(t+\\theta) &= u(t+1-\\zeta)\n",
    "\\end{align}"
   ]
  },
  {
   "cell_type": "code",
   "execution_count": 62,
   "metadata": {},
   "outputs": [],
   "source": [
    "theta, zeta = sp.symbols(r'\\theta, \\zeta')"
   ]
  },
  {
   "cell_type": "code",
   "execution_count": 66,
   "metadata": {},
   "outputs": [
    {
     "data": {
      "image/png": "[encoded data removed]",
      "text/latex": [
       "$\\displaystyle \\left[ \\frac{\\pi - \\operatorname{asin}{\\left(\\frac{F_{lo} + F_{up}}{F_{lo} - F_{up}} \\right)}}{2 \\pi}, \\  \\frac{\\operatorname{asin}{\\left(\\frac{F_{lo} + F_{up}}{F_{lo} - F_{up}} \\right)}}{2 \\pi}\\right]$"
      ],
      "text/plain": [
       "⎡        ⎛Fₗₒ + Fᵤₚ⎞      ⎛Fₗₒ + Fᵤₚ⎞⎤\n",
       "⎢π - asin⎜─────────⎟  asin⎜─────────⎟⎥\n",
       "⎢        ⎝Fₗₒ - Fᵤₚ⎠      ⎝Fₗₒ - Fᵤₚ⎠⎥\n",
       "⎢───────────────────, ───────────────⎥\n",
       "⎣        2⋅π                2⋅π      ⎦"
      ]
     },
     "execution_count": 66,
     "metadata": {},
     "output_type": "execute_result"
    }
   ],
   "source": [
    "sp.solve(F_t_cyc, t)"
   ]
  },
  {
   "cell_type": "markdown",
   "metadata": {},
   "source": [
    "# Verify the rate integral using a circle"
   ]
  },
  {
   "cell_type": "code",
   "execution_count": 89,
   "metadata": {},
   "outputs": [],
   "source": [
    "r = sp.symbols('r')\n",
    "F_t = r*sp.cos(t/T)\n",
    "u_t = r*sp.sin(t/T)"
   ]
  },
  {
   "cell_type": "code",
   "execution_count": 90,
   "metadata": {},
   "outputs": [],
   "source": [
    "get_F_t = sp.lambdify((t,r), F_t)\n",
    "get_u_t = sp.lambdify((t,r), u_t)"
   ]
  },
  {
   "cell_type": "code",
   "execution_count": 91,
   "metadata": {},
   "outputs": [
    {
     "data": {
      "application/vnd.jupyter.widget-view+json": {
       "model_id": "e8b3746f1b404cad9af9ab8a35436a9c",
       "version_major": 2,
       "version_minor": 0
      },
      "text/plain": [
       "Canvas(toolbar=Toolbar(toolitems=[('Home', 'Reset original view', 'home', 'home'), ('Back', 'Back to previous …"
      ]
     },
     "metadata": {},
     "output_type": "display_data"
    },
    {
     "data": {
      "text/plain": [
       "[<matplotlib.lines.Line2D at 0x7fc229996310>]"
      ]
     },
     "execution_count": 91,
     "metadata": {},
     "output_type": "execute_result"
    }
   ],
   "source": [
    "t_range = np.linspace(0,1,100)\n",
    "_, ax = plt.subplots(1,1)\n",
    "ax.plot(get_u_t(t_range,2), get_F_t(t_range,2))"
   ]
  },
  {
   "cell_type": "code",
   "execution_count": 35,
   "metadata": {},
   "outputs": [
    {
     "data": {
      "image/png": "[encoded data removed]",
      "text/latex": [
       "$\\displaystyle - 2 \\pi r^{2} \\cos^{2}{\\left(2 \\pi t \\right)}$"
      ],
      "text/plain": [
       "      2    2       \n",
       "-2⋅π⋅r ⋅cos (2⋅π⋅t)"
      ]
     },
     "execution_count": 35,
     "metadata": {},
     "output_type": "execute_result"
    }
   ],
   "source": [
    "sp.simplify(F_t*u_t.diff(t))"
   ]
  },
  {
   "cell_type": "code",
   "execution_count": 36,
   "metadata": {},
   "outputs": [
    {
     "data": {
      "image/png": "[encoded data removed]",
      "text/latex": [
       "$\\displaystyle - \\pi r^{2}$"
      ],
      "text/plain": [
       "    2\n",
       "-π⋅r "
      ]
     },
     "execution_count": 36,
     "metadata": {},
     "output_type": "execute_result"
    }
   ],
   "source": [
    "sp.integrate(F_t*u_t.diff(t),(t,0,1))"
   ]
  },
  {
   "cell_type": "code",
   "execution_count": null,
   "metadata": {},
   "outputs": [],
   "source": []
  }
 ],
 "metadata": {
  "kernelspec": {
   "display_name": "bmcs_env",
   "language": "python",
   "name": "bmcs_env"
  },
  "language_info": {
   "codemirror_mode": {
    "name": "ipython",
    "version": 3
   },
   "file_extension": ".py",
   "mimetype": "text/x-python",
   "name": "python",
   "nbconvert_exporter": "python",
   "pygments_lexer": "ipython3",
   "version": "3.9.1"
  },
  "toc": {
   "base_numbering": 1,
   "nav_menu": {},
   "number_sections": true,
   "sideBar": true,
   "skip_h1_title": true,
   "title_cell": "Table of Contents",
   "title_sidebar": "Contents",
   "toc_cell": false,
   "toc_position": {
    "height": "calc(100% - 180px)",
    "left": "10px",
    "top": "150px",
    "width": "165px"
   },
   "toc_section_display": true,
   "toc_window_display": false
  }
 },
 "nbformat": 4,
 "nbformat_minor": 4
}
